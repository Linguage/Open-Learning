{
 "cells": [
  {
   "cell_type": "code",
   "execution_count": 2,
   "metadata": {},
   "outputs": [
    {
     "name": "stdout",
     "output_type": "stream",
     "text": [
      "pygame 2.6.1 (SDL 2.28.4, Python 3.12.7)\n",
      "Hello from the pygame community. https://www.pygame.org/contribute.html\n"
     ]
    },
    {
     "ename": "SystemExit",
     "evalue": "",
     "output_type": "error",
     "traceback": [
      "An exception has occurred, use %tb to see the full traceback.\n",
      "\u001b[1;31mSystemExit\u001b[0m\n"
     ]
    },
    {
     "name": "stderr",
     "output_type": "stream",
     "text": [
      "c:\\Users\\peakh\\miniconda3\\envs\\henri_env\\Lib\\site-packages\\IPython\\core\\interactiveshell.py:3585: UserWarning: To exit: use 'exit', 'quit', or Ctrl-D.\n",
      "  warn(\"To exit: use 'exit', 'quit', or Ctrl-D.\", stacklevel=1)\n"
     ]
    }
   ],
   "source": [
    "import cmath as cm\n",
    "import numpy as np\n",
    "import pygame as pg\n",
    "import sys\n",
    "from pygame.locals import *\n",
    "\n",
    "NN = 20 #截断阶数\n",
    "factor = 16 #放大系数\n",
    "path = 'her.txt'\n",
    "\n",
    "def readMat(path):\n",
    "    with open(path,'r') as f:\n",
    "        lines = f.readlines()\n",
    "    data = []\n",
    "    for line in lines:\n",
    "        tmp = line.strip('\\n').strip(' ').split('  ')\n",
    "        data.append(complex(float(tmp[0]),float(tmp[1])))\n",
    "        #data.append(tmp)\n",
    "    return np.array(data)\n",
    "        \n",
    "##读取txt文件获取坐标第一列为x坐标，第二列为y坐标\n",
    "data = readMat(path)\n",
    "data  = data*factor\n",
    "Npts = data.size\n",
    "##假设周期为1，计算傅立叶级数的系数\n",
    "t = np.linspace(1/Npts,1,num = Npts,endpoint = True)\n",
    "Fn = np.zeros(2*NN+1)*1j\n",
    "for i in range(2*NN+1):\n",
    "    Fn[i] = np.sum(data*np.exp(-1j*(i-NN)*2*np.pi*t))/Npts\n",
    "rho = np.abs(Fn)   #获取指数表达的模和相角\n",
    "ang = np.angle(Fn)\n",
    "\n",
    "Xn = np.zeros([Npts,2*NN+1]) #存储每一步的矢量端绝对坐标\n",
    "Yn = np.zeros([Npts,2*NN+1])\n",
    "Xn[:,0] = rho[NN]*np.cos(ang[NN])\n",
    "Yn[:,0] = rho[NN]*np.sin(ang[NN])\n",
    "for i in range(1,NN+1):\n",
    "    Xn[:,2*i-1] = rho[NN+i]*np.cos(ang[NN+i]+i*2*np.pi*t)\n",
    "    Xn[:,2*i] = rho[NN-i]*np.cos(ang[NN-i]-i*2*np.pi*t)\n",
    "    Yn[:,2*i-1] = rho[NN+i]*np.sin(ang[NN+i]+i*2*np.pi*t)\n",
    "    Yn[:,2*i] = rho[NN-i]*np.sin(ang[NN-i]-i*2*np.pi*t)\n",
    "for i in range(1,2*NN+1):\n",
    "    Xn[:,i] = Xn[:,i]+Xn[:,i-1]\n",
    "    Yn[:,i] = Yn[:,i]+Yn[:,i-1]\n",
    "\n",
    "## 预处理\n",
    "order = 2*NN+1\n",
    "biasx = 500\n",
    "biasy = 400\n",
    "Xn = Xn+biasx\n",
    "Yn = -Yn+biasy\n",
    "pts = []\n",
    "for i in range(Npts):\n",
    "    pts.append([Xn[i,order-1],Yn[i,order-1]])\n",
    "\n",
    "\n",
    "## 定义画圆函数\n",
    "def drawCircles(screen,X,Y,color_line,color_cir):\n",
    "    lenx = len(X)\n",
    "    pg.draw.circle(screen,color_cir,(biasx,biasy),np.sqrt((X[0]-biasx)**2+(Y[0]-biasy)**2),1)\n",
    "    pg.draw.aaline(screen,color_line,(biasx,biasy),(X[0],Y[0]),1)\n",
    "    for i in range(1,order):\n",
    "        pg.draw.circle(screen,color_cir,(X[i-1],Y[i-1]),np.sqrt((X[i]-X[i-1])**2+(Y[i]-Y[i-1])**2),1)\n",
    "        pg.draw.line(screen,color_line,(X[i-1],Y[i-1]),(X[i],Y[i]),1)\n",
    "\n",
    "pg.init()\n",
    "FPS = 50\n",
    "fpsClock = pg.time.Clock()\n",
    "RED = (255,0,0)\n",
    "GREEN = (0,255,0)\n",
    "BLUE = (0,0,255)\n",
    "BLACK = (0,0,0)\n",
    "WHITE = (255,255,255)\n",
    "screen = pg.display.set_mode((2*biasx,2*biasy),flags = pg.RESIZABLE)\n",
    "pg.display.set_caption('LOVE YOU')\n",
    "\n",
    "i = 0\n",
    "while True:\n",
    "    screen.fill(BLACK)\n",
    "    if i > 1:\n",
    "        pg.draw.aalines(screen,RED,False,pts[0:i],4)\n",
    "    drawCircles(screen,Xn[i,:],Yn[i,:],WHITE,BLUE)\n",
    "    for event in pg.event.get():\n",
    "        if event.type == QUIT:\n",
    "            pg.quit()\n",
    "            sys.exit()\n",
    "    i = i+1\n",
    "    if i == Npts:\n",
    "        i = 0\n",
    "    fpsClock.tick(FPS)\n",
    "    pg.display.update()\n",
    "\n"
   ]
  },
  {
   "cell_type": "code",
   "execution_count": 2,
   "metadata": {},
   "outputs": [
    {
     "ename": "error",
     "evalue": "display Surface quit",
     "output_type": "error",
     "traceback": [
      "\u001b[0;31m---------------------------------------------------------------------------\u001b[0m",
      "\u001b[0;31merror\u001b[0m                                     Traceback (most recent call last)",
      "Cell \u001b[0;32mIn[2], line 2\u001b[0m\n\u001b[1;32m      1\u001b[0m \u001b[38;5;66;03m# 将生成的动画图像输出为gif格式保存\u001b[39;00m\n\u001b[0;32m----> 2\u001b[0m \u001b[43mpg\u001b[49m\u001b[38;5;241;43m.\u001b[39;49m\u001b[43mimage\u001b[49m\u001b[38;5;241;43m.\u001b[39;49m\u001b[43msave\u001b[49m\u001b[43m(\u001b[49m\u001b[43mscreen\u001b[49m\u001b[43m,\u001b[49m\u001b[38;5;124;43m'\u001b[39;49m\u001b[38;5;124;43mlove.gif\u001b[39;49m\u001b[38;5;124;43m'\u001b[39;49m\u001b[43m)\u001b[49m\n",
      "\u001b[0;31merror\u001b[0m: display Surface quit"
     ]
    }
   ],
   "source": [
    "# 将生成的动画图像输出为gif格式保存\n",
    "pg.image.save(screen,'love.gif')\n"
   ]
  }
 ],
 "metadata": {
  "kernelspec": {
   "display_name": "henri_env",
   "language": "python",
   "name": "python3"
  },
  "language_info": {
   "codemirror_mode": {
    "name": "ipython",
    "version": 3
   },
   "file_extension": ".py",
   "mimetype": "text/x-python",
   "name": "python",
   "nbconvert_exporter": "python",
   "pygments_lexer": "ipython3",
   "version": "3.12.7"
  }
 },
 "nbformat": 4,
 "nbformat_minor": 2
}
