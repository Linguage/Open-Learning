{
 "cells": [
  {
   "cell_type": "code",
   "execution_count": null,
   "metadata": {},
   "outputs": [],
   "source": [
    "import folium\n",
    "\n",
    "m = folium.Map(location=[-27.5717, -48.6256], zoom_start=9)\n",
    "\n",
    "radius = 50\n",
    "folium.CircleMarker(\n",
    "    location=[-27.55, -48.8],\n",
    "    radius=radius,\n",
    "    color=\"cornflowerblue\",\n",
    "    stroke=False,\n",
    "    fill=True,\n",
    "    fill_opacity=0.6,\n",
    "    opacity=1,\n",
    "    popup=\"{} pixels\".format(radius),\n",
    "    tooltip=\"I am in pixels\",\n",
    ").add_to(m)\n",
    "\n",
    "radius = 25\n",
    "folium.CircleMarker(\n",
    "    location=[-27.35, -48.8],\n",
    "    radius=radius,\n",
    "    color=\"black\",\n",
    "    weight=3,\n",
    "    fill=False,\n",
    "    fill_opacity=0.6,\n",
    "    opacity=1,\n",
    ").add_to(m)\n",
    "\n",
    "radius = 10000\n",
    "folium.Circle(\n",
    "    location=[-27.551667, -48.478889],\n",
    "    radius=radius,\n",
    "    color=\"black\",\n",
    "    weight=1,\n",
    "    fill_opacity=0.6,\n",
    "    opacity=1,\n",
    "    fill_color=\"green\",\n",
    "    fill=False,  # gets overridden by fill_color\n",
    "    popup=\"{} meters\".format(radius),\n",
    "    tooltip=\"I am in meters\",\n",
    ").add_to(m)\n",
    "\n",
    "m"
   ]
  }
 ],
 "metadata": {
  "kernelspec": {
   "display_name": "henri_env",
   "language": "python",
   "name": "python3"
  },
  "language_info": {
   "codemirror_mode": {
    "name": "ipython",
    "version": 3
   },
   "file_extension": ".py",
   "mimetype": "text/x-python",
   "name": "python",
   "nbconvert_exporter": "python",
   "pygments_lexer": "ipython3",
   "version": "3.10.14"
  }
 },
 "nbformat": 4,
 "nbformat_minor": 2
}
