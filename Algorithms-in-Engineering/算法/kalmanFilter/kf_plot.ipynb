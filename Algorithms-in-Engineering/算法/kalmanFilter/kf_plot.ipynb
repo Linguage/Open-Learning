{
 "cells": [
  {
   "cell_type": "code",
   "execution_count": null,
   "id": "32a0f594",
   "metadata": {},
   "outputs": [
    {
     "name": "stderr",
     "output_type": "stream",
     "text": [
      "/var/folders/tm/snrp8gcn00113mpkf_j5jmqm0000gn/T/ipykernel_31416/2833816034.py:39: UserWarning: Glyph 108 (l) missing from font(s) Noto Sans Meroitic.\n",
      "  plt.tight_layout()\n",
      "/var/folders/tm/snrp8gcn00113mpkf_j5jmqm0000gn/T/ipykernel_31416/2833816034.py:39: UserWarning: Glyph 112 (p) missing from font(s) Noto Sans Meroitic.\n",
      "  plt.tight_layout()\n",
      "/var/folders/tm/snrp8gcn00113mpkf_j5jmqm0000gn/T/ipykernel_31416/2833816034.py:39: UserWarning: Glyph 48 (0) missing from font(s) Noto Sans Meroitic.\n",
      "  plt.tight_layout()\n",
      "/var/folders/tm/snrp8gcn00113mpkf_j5jmqm0000gn/T/ipykernel_31416/2833816034.py:39: UserWarning: Glyph 49 (1) missing from font(s) Noto Sans Meroitic.\n",
      "  plt.tight_layout()\n",
      "/var/folders/tm/snrp8gcn00113mpkf_j5jmqm0000gn/T/ipykernel_31416/2833816034.py:39: UserWarning: Glyph 50 (2) missing from font(s) Noto Sans Meroitic.\n",
      "  plt.tight_layout()\n",
      "/var/folders/tm/snrp8gcn00113mpkf_j5jmqm0000gn/T/ipykernel_31416/2833816034.py:39: UserWarning: Glyph 51 (3) missing from font(s) Noto Sans Meroitic.\n",
      "  plt.tight_layout()\n",
      "/var/folders/tm/snrp8gcn00113mpkf_j5jmqm0000gn/T/ipykernel_31416/2833816034.py:39: UserWarning: Glyph 52 (4) missing from font(s) Noto Sans Meroitic.\n",
      "  plt.tight_layout()\n",
      "/var/folders/tm/snrp8gcn00113mpkf_j5jmqm0000gn/T/ipykernel_31416/2833816034.py:39: UserWarning: Glyph 53 (5) missing from font(s) Noto Sans Meroitic.\n",
      "  plt.tight_layout()\n",
      "/var/folders/tm/snrp8gcn00113mpkf_j5jmqm0000gn/T/ipykernel_31416/2833816034.py:39: UserWarning: Glyph 26102 (\\N{CJK UNIFIED IDEOGRAPH-65F6}) missing from font(s) Noto Sans Meroitic.\n",
      "  plt.tight_layout()\n",
      "/var/folders/tm/snrp8gcn00113mpkf_j5jmqm0000gn/T/ipykernel_31416/2833816034.py:39: UserWarning: Glyph 38388 (\\N{CJK UNIFIED IDEOGRAPH-95F4}) missing from font(s) Noto Sans Meroitic.\n",
      "  plt.tight_layout()\n",
      "/var/folders/tm/snrp8gcn00113mpkf_j5jmqm0000gn/T/ipykernel_31416/2833816034.py:39: UserWarning: Glyph 27493 (\\N{CJK UNIFIED IDEOGRAPH-6B65}) missing from font(s) Noto Sans Meroitic.\n",
      "  plt.tight_layout()\n",
      "/var/folders/tm/snrp8gcn00113mpkf_j5jmqm0000gn/T/ipykernel_31416/2833816034.py:39: UserWarning: Glyph 54 (6) missing from font(s) Noto Sans Meroitic.\n",
      "  plt.tight_layout()\n",
      "/var/folders/tm/snrp8gcn00113mpkf_j5jmqm0000gn/T/ipykernel_31416/2833816034.py:39: UserWarning: Glyph 55 (7) missing from font(s) Noto Sans Meroitic.\n",
      "  plt.tight_layout()\n",
      "/var/folders/tm/snrp8gcn00113mpkf_j5jmqm0000gn/T/ipykernel_31416/2833816034.py:39: UserWarning: Glyph 56 (8) missing from font(s) Noto Sans Meroitic.\n",
      "  plt.tight_layout()\n",
      "/var/folders/tm/snrp8gcn00113mpkf_j5jmqm0000gn/T/ipykernel_31416/2833816034.py:39: UserWarning: Glyph 57 (9) missing from font(s) Noto Sans Meroitic.\n",
      "  plt.tight_layout()\n",
      "/var/folders/tm/snrp8gcn00113mpkf_j5jmqm0000gn/T/ipykernel_31416/2833816034.py:39: UserWarning: Glyph 20301 (\\N{CJK UNIFIED IDEOGRAPH-4F4D}) missing from font(s) Noto Sans Meroitic.\n",
      "  plt.tight_layout()\n",
      "/var/folders/tm/snrp8gcn00113mpkf_j5jmqm0000gn/T/ipykernel_31416/2833816034.py:39: UserWarning: Glyph 32622 (\\N{CJK UNIFIED IDEOGRAPH-7F6E}) missing from font(s) Noto Sans Meroitic.\n",
      "  plt.tight_layout()\n",
      "/var/folders/tm/snrp8gcn00113mpkf_j5jmqm0000gn/T/ipykernel_31416/2833816034.py:39: UserWarning: Glyph 19968 (\\N{CJK UNIFIED IDEOGRAPH-4E00}) missing from font(s) Noto Sans Meroitic.\n",
      "  plt.tight_layout()\n",
      "/var/folders/tm/snrp8gcn00113mpkf_j5jmqm0000gn/T/ipykernel_31416/2833816034.py:39: UserWarning: Glyph 32500 (\\N{CJK UNIFIED IDEOGRAPH-7EF4}) missing from font(s) Noto Sans Meroitic.\n",
      "  plt.tight_layout()\n",
      "/var/folders/tm/snrp8gcn00113mpkf_j5jmqm0000gn/T/ipykernel_31416/2833816034.py:39: UserWarning: Glyph 21345 (\\N{CJK UNIFIED IDEOGRAPH-5361}) missing from font(s) Noto Sans Meroitic.\n",
      "  plt.tight_layout()\n",
      "/var/folders/tm/snrp8gcn00113mpkf_j5jmqm0000gn/T/ipykernel_31416/2833816034.py:39: UserWarning: Glyph 23572 (\\N{CJK UNIFIED IDEOGRAPH-5C14}) missing from font(s) Noto Sans Meroitic.\n",
      "  plt.tight_layout()\n",
      "/var/folders/tm/snrp8gcn00113mpkf_j5jmqm0000gn/T/ipykernel_31416/2833816034.py:39: UserWarning: Glyph 26364 (\\N{CJK UNIFIED IDEOGRAPH-66FC}) missing from font(s) Noto Sans Meroitic.\n",
      "  plt.tight_layout()\n",
      "/var/folders/tm/snrp8gcn00113mpkf_j5jmqm0000gn/T/ipykernel_31416/2833816034.py:39: UserWarning: Glyph 28388 (\\N{CJK UNIFIED IDEOGRAPH-6EE4}) missing from font(s) Noto Sans Meroitic.\n",
      "  plt.tight_layout()\n",
      "/var/folders/tm/snrp8gcn00113mpkf_j5jmqm0000gn/T/ipykernel_31416/2833816034.py:39: UserWarning: Glyph 27874 (\\N{CJK UNIFIED IDEOGRAPH-6CE2}) missing from font(s) Noto Sans Meroitic.\n",
      "  plt.tight_layout()\n",
      "/var/folders/tm/snrp8gcn00113mpkf_j5jmqm0000gn/T/ipykernel_31416/2833816034.py:39: UserWarning: Glyph 22120 (\\N{CJK UNIFIED IDEOGRAPH-5668}) missing from font(s) Noto Sans Meroitic.\n",
      "  plt.tight_layout()\n",
      "/var/folders/tm/snrp8gcn00113mpkf_j5jmqm0000gn/T/ipykernel_31416/2833816034.py:39: UserWarning: Glyph 31034 (\\N{CJK UNIFIED IDEOGRAPH-793A}) missing from font(s) Noto Sans Meroitic.\n",
      "  plt.tight_layout()\n",
      "/var/folders/tm/snrp8gcn00113mpkf_j5jmqm0000gn/T/ipykernel_31416/2833816034.py:39: UserWarning: Glyph 20363 (\\N{CJK UNIFIED IDEOGRAPH-4F8B}) missing from font(s) Noto Sans Meroitic.\n",
      "  plt.tight_layout()\n",
      "/var/folders/tm/snrp8gcn00113mpkf_j5jmqm0000gn/T/ipykernel_31416/2833816034.py:39: UserWarning: Glyph 35266 (\\N{CJK UNIFIED IDEOGRAPH-89C2}) missing from font(s) Noto Sans Meroitic.\n",
      "  plt.tight_layout()\n",
      "/var/folders/tm/snrp8gcn00113mpkf_j5jmqm0000gn/T/ipykernel_31416/2833816034.py:39: UserWarning: Glyph 27979 (\\N{CJK UNIFIED IDEOGRAPH-6D4B}) missing from font(s) Noto Sans Meroitic.\n",
      "  plt.tight_layout()\n",
      "/var/folders/tm/snrp8gcn00113mpkf_j5jmqm0000gn/T/ipykernel_31416/2833816034.py:39: UserWarning: Glyph 20540 (\\N{CJK UNIFIED IDEOGRAPH-503C}) missing from font(s) Noto Sans Meroitic.\n",
      "  plt.tight_layout()\n",
      "/var/folders/tm/snrp8gcn00113mpkf_j5jmqm0000gn/T/ipykernel_31416/2833816034.py:39: UserWarning: Glyph 30495 (\\N{CJK UNIFIED IDEOGRAPH-771F}) missing from font(s) Noto Sans Meroitic.\n",
      "  plt.tight_layout()\n",
      "/var/folders/tm/snrp8gcn00113mpkf_j5jmqm0000gn/T/ipykernel_31416/2833816034.py:39: UserWarning: Glyph 23454 (\\N{CJK UNIFIED IDEOGRAPH-5B9E}) missing from font(s) Noto Sans Meroitic.\n",
      "  plt.tight_layout()\n",
      "/var/folders/tm/snrp8gcn00113mpkf_j5jmqm0000gn/T/ipykernel_31416/2833816034.py:39: UserWarning: Glyph 20272 (\\N{CJK UNIFIED IDEOGRAPH-4F30}) missing from font(s) Noto Sans Meroitic.\n",
      "  plt.tight_layout()\n",
      "/var/folders/tm/snrp8gcn00113mpkf_j5jmqm0000gn/T/ipykernel_31416/2833816034.py:39: UserWarning: Glyph 35745 (\\N{CJK UNIFIED IDEOGRAPH-8BA1}) missing from font(s) Noto Sans Meroitic.\n",
      "  plt.tight_layout()\n",
      "/var/folders/tm/snrp8gcn00113mpkf_j5jmqm0000gn/T/ipykernel_31416/2833816034.py:40: UserWarning: Glyph 108 (l) missing from font(s) Noto Sans Meroitic.\n",
      "  plt.savefig('./plot_with_chinese.png')  # 保存图片到当前目录\n",
      "/var/folders/tm/snrp8gcn00113mpkf_j5jmqm0000gn/T/ipykernel_31416/2833816034.py:40: UserWarning: Glyph 112 (p) missing from font(s) Noto Sans Meroitic.\n",
      "  plt.savefig('./plot_with_chinese.png')  # 保存图片到当前目录\n",
      "/var/folders/tm/snrp8gcn00113mpkf_j5jmqm0000gn/T/ipykernel_31416/2833816034.py:40: UserWarning: Glyph 48 (0) missing from font(s) Noto Sans Meroitic.\n",
      "  plt.savefig('./plot_with_chinese.png')  # 保存图片到当前目录\n",
      "/var/folders/tm/snrp8gcn00113mpkf_j5jmqm0000gn/T/ipykernel_31416/2833816034.py:40: UserWarning: Glyph 49 (1) missing from font(s) Noto Sans Meroitic.\n",
      "  plt.savefig('./plot_with_chinese.png')  # 保存图片到当前目录\n",
      "/var/folders/tm/snrp8gcn00113mpkf_j5jmqm0000gn/T/ipykernel_31416/2833816034.py:40: UserWarning: Glyph 50 (2) missing from font(s) Noto Sans Meroitic.\n",
      "  plt.savefig('./plot_with_chinese.png')  # 保存图片到当前目录\n",
      "/var/folders/tm/snrp8gcn00113mpkf_j5jmqm0000gn/T/ipykernel_31416/2833816034.py:40: UserWarning: Glyph 51 (3) missing from font(s) Noto Sans Meroitic.\n",
      "  plt.savefig('./plot_with_chinese.png')  # 保存图片到当前目录\n",
      "/var/folders/tm/snrp8gcn00113mpkf_j5jmqm0000gn/T/ipykernel_31416/2833816034.py:40: UserWarning: Glyph 52 (4) missing from font(s) Noto Sans Meroitic.\n",
      "  plt.savefig('./plot_with_chinese.png')  # 保存图片到当前目录\n",
      "/var/folders/tm/snrp8gcn00113mpkf_j5jmqm0000gn/T/ipykernel_31416/2833816034.py:40: UserWarning: Glyph 53 (5) missing from font(s) Noto Sans Meroitic.\n",
      "  plt.savefig('./plot_with_chinese.png')  # 保存图片到当前目录\n",
      "/var/folders/tm/snrp8gcn00113mpkf_j5jmqm0000gn/T/ipykernel_31416/2833816034.py:40: UserWarning: Glyph 26102 (\\N{CJK UNIFIED IDEOGRAPH-65F6}) missing from font(s) Noto Sans Meroitic.\n",
      "  plt.savefig('./plot_with_chinese.png')  # 保存图片到当前目录\n",
      "/var/folders/tm/snrp8gcn00113mpkf_j5jmqm0000gn/T/ipykernel_31416/2833816034.py:40: UserWarning: Glyph 38388 (\\N{CJK UNIFIED IDEOGRAPH-95F4}) missing from font(s) Noto Sans Meroitic.\n",
      "  plt.savefig('./plot_with_chinese.png')  # 保存图片到当前目录\n",
      "/var/folders/tm/snrp8gcn00113mpkf_j5jmqm0000gn/T/ipykernel_31416/2833816034.py:40: UserWarning: Glyph 27493 (\\N{CJK UNIFIED IDEOGRAPH-6B65}) missing from font(s) Noto Sans Meroitic.\n",
      "  plt.savefig('./plot_with_chinese.png')  # 保存图片到当前目录\n",
      "/var/folders/tm/snrp8gcn00113mpkf_j5jmqm0000gn/T/ipykernel_31416/2833816034.py:40: UserWarning: Glyph 54 (6) missing from font(s) Noto Sans Meroitic.\n",
      "  plt.savefig('./plot_with_chinese.png')  # 保存图片到当前目录\n",
      "/var/folders/tm/snrp8gcn00113mpkf_j5jmqm0000gn/T/ipykernel_31416/2833816034.py:40: UserWarning: Glyph 55 (7) missing from font(s) Noto Sans Meroitic.\n",
      "  plt.savefig('./plot_with_chinese.png')  # 保存图片到当前目录\n",
      "/var/folders/tm/snrp8gcn00113mpkf_j5jmqm0000gn/T/ipykernel_31416/2833816034.py:40: UserWarning: Glyph 56 (8) missing from font(s) Noto Sans Meroitic.\n",
      "  plt.savefig('./plot_with_chinese.png')  # 保存图片到当前目录\n",
      "/var/folders/tm/snrp8gcn00113mpkf_j5jmqm0000gn/T/ipykernel_31416/2833816034.py:40: UserWarning: Glyph 57 (9) missing from font(s) Noto Sans Meroitic.\n",
      "  plt.savefig('./plot_with_chinese.png')  # 保存图片到当前目录\n",
      "/var/folders/tm/snrp8gcn00113mpkf_j5jmqm0000gn/T/ipykernel_31416/2833816034.py:40: UserWarning: Glyph 20301 (\\N{CJK UNIFIED IDEOGRAPH-4F4D}) missing from font(s) Noto Sans Meroitic.\n",
      "  plt.savefig('./plot_with_chinese.png')  # 保存图片到当前目录\n",
      "/var/folders/tm/snrp8gcn00113mpkf_j5jmqm0000gn/T/ipykernel_31416/2833816034.py:40: UserWarning: Glyph 32622 (\\N{CJK UNIFIED IDEOGRAPH-7F6E}) missing from font(s) Noto Sans Meroitic.\n",
      "  plt.savefig('./plot_with_chinese.png')  # 保存图片到当前目录\n",
      "/var/folders/tm/snrp8gcn00113mpkf_j5jmqm0000gn/T/ipykernel_31416/2833816034.py:40: UserWarning: Glyph 19968 (\\N{CJK UNIFIED IDEOGRAPH-4E00}) missing from font(s) Noto Sans Meroitic.\n",
      "  plt.savefig('./plot_with_chinese.png')  # 保存图片到当前目录\n",
      "/var/folders/tm/snrp8gcn00113mpkf_j5jmqm0000gn/T/ipykernel_31416/2833816034.py:40: UserWarning: Glyph 32500 (\\N{CJK UNIFIED IDEOGRAPH-7EF4}) missing from font(s) Noto Sans Meroitic.\n",
      "  plt.savefig('./plot_with_chinese.png')  # 保存图片到当前目录\n",
      "/var/folders/tm/snrp8gcn00113mpkf_j5jmqm0000gn/T/ipykernel_31416/2833816034.py:40: UserWarning: Glyph 21345 (\\N{CJK UNIFIED IDEOGRAPH-5361}) missing from font(s) Noto Sans Meroitic.\n",
      "  plt.savefig('./plot_with_chinese.png')  # 保存图片到当前目录\n",
      "/var/folders/tm/snrp8gcn00113mpkf_j5jmqm0000gn/T/ipykernel_31416/2833816034.py:40: UserWarning: Glyph 23572 (\\N{CJK UNIFIED IDEOGRAPH-5C14}) missing from font(s) Noto Sans Meroitic.\n",
      "  plt.savefig('./plot_with_chinese.png')  # 保存图片到当前目录\n",
      "/var/folders/tm/snrp8gcn00113mpkf_j5jmqm0000gn/T/ipykernel_31416/2833816034.py:40: UserWarning: Glyph 26364 (\\N{CJK UNIFIED IDEOGRAPH-66FC}) missing from font(s) Noto Sans Meroitic.\n",
      "  plt.savefig('./plot_with_chinese.png')  # 保存图片到当前目录\n",
      "/var/folders/tm/snrp8gcn00113mpkf_j5jmqm0000gn/T/ipykernel_31416/2833816034.py:40: UserWarning: Glyph 28388 (\\N{CJK UNIFIED IDEOGRAPH-6EE4}) missing from font(s) Noto Sans Meroitic.\n",
      "  plt.savefig('./plot_with_chinese.png')  # 保存图片到当前目录\n",
      "/var/folders/tm/snrp8gcn00113mpkf_j5jmqm0000gn/T/ipykernel_31416/2833816034.py:40: UserWarning: Glyph 27874 (\\N{CJK UNIFIED IDEOGRAPH-6CE2}) missing from font(s) Noto Sans Meroitic.\n",
      "  plt.savefig('./plot_with_chinese.png')  # 保存图片到当前目录\n",
      "/var/folders/tm/snrp8gcn00113mpkf_j5jmqm0000gn/T/ipykernel_31416/2833816034.py:40: UserWarning: Glyph 22120 (\\N{CJK UNIFIED IDEOGRAPH-5668}) missing from font(s) Noto Sans Meroitic.\n",
      "  plt.savefig('./plot_with_chinese.png')  # 保存图片到当前目录\n",
      "/var/folders/tm/snrp8gcn00113mpkf_j5jmqm0000gn/T/ipykernel_31416/2833816034.py:40: UserWarning: Glyph 31034 (\\N{CJK UNIFIED IDEOGRAPH-793A}) missing from font(s) Noto Sans Meroitic.\n",
      "  plt.savefig('./plot_with_chinese.png')  # 保存图片到当前目录\n",
      "/var/folders/tm/snrp8gcn00113mpkf_j5jmqm0000gn/T/ipykernel_31416/2833816034.py:40: UserWarning: Glyph 20363 (\\N{CJK UNIFIED IDEOGRAPH-4F8B}) missing from font(s) Noto Sans Meroitic.\n",
      "  plt.savefig('./plot_with_chinese.png')  # 保存图片到当前目录\n",
      "/var/folders/tm/snrp8gcn00113mpkf_j5jmqm0000gn/T/ipykernel_31416/2833816034.py:40: UserWarning: Glyph 35266 (\\N{CJK UNIFIED IDEOGRAPH-89C2}) missing from font(s) Noto Sans Meroitic.\n",
      "  plt.savefig('./plot_with_chinese.png')  # 保存图片到当前目录\n",
      "/var/folders/tm/snrp8gcn00113mpkf_j5jmqm0000gn/T/ipykernel_31416/2833816034.py:40: UserWarning: Glyph 27979 (\\N{CJK UNIFIED IDEOGRAPH-6D4B}) missing from font(s) Noto Sans Meroitic.\n",
      "  plt.savefig('./plot_with_chinese.png')  # 保存图片到当前目录\n",
      "/var/folders/tm/snrp8gcn00113mpkf_j5jmqm0000gn/T/ipykernel_31416/2833816034.py:40: UserWarning: Glyph 20540 (\\N{CJK UNIFIED IDEOGRAPH-503C}) missing from font(s) Noto Sans Meroitic.\n",
      "  plt.savefig('./plot_with_chinese.png')  # 保存图片到当前目录\n",
      "/var/folders/tm/snrp8gcn00113mpkf_j5jmqm0000gn/T/ipykernel_31416/2833816034.py:40: UserWarning: Glyph 30495 (\\N{CJK UNIFIED IDEOGRAPH-771F}) missing from font(s) Noto Sans Meroitic.\n",
      "  plt.savefig('./plot_with_chinese.png')  # 保存图片到当前目录\n",
      "/var/folders/tm/snrp8gcn00113mpkf_j5jmqm0000gn/T/ipykernel_31416/2833816034.py:40: UserWarning: Glyph 23454 (\\N{CJK UNIFIED IDEOGRAPH-5B9E}) missing from font(s) Noto Sans Meroitic.\n",
      "  plt.savefig('./plot_with_chinese.png')  # 保存图片到当前目录\n",
      "/var/folders/tm/snrp8gcn00113mpkf_j5jmqm0000gn/T/ipykernel_31416/2833816034.py:40: UserWarning: Glyph 20272 (\\N{CJK UNIFIED IDEOGRAPH-4F30}) missing from font(s) Noto Sans Meroitic.\n",
      "  plt.savefig('./plot_with_chinese.png')  # 保存图片到当前目录\n",
      "/var/folders/tm/snrp8gcn00113mpkf_j5jmqm0000gn/T/ipykernel_31416/2833816034.py:40: UserWarning: Glyph 35745 (\\N{CJK UNIFIED IDEOGRAPH-8BA1}) missing from font(s) Noto Sans Meroitic.\n",
      "  plt.savefig('./plot_with_chinese.png')  # 保存图片到当前目录\n",
      "/Users/henri/miniconda3/envs/henri_env/lib/python3.10/site-packages/IPython/core/pylabtools.py:152: UserWarning: Glyph 108 (l) missing from font(s) Noto Sans Meroitic.\n",
      "  fig.canvas.print_figure(bytes_io, **kw)\n",
      "/Users/henri/miniconda3/envs/henri_env/lib/python3.10/site-packages/IPython/core/pylabtools.py:152: UserWarning: Glyph 112 (p) missing from font(s) Noto Sans Meroitic.\n",
      "  fig.canvas.print_figure(bytes_io, **kw)\n",
      "/Users/henri/miniconda3/envs/henri_env/lib/python3.10/site-packages/IPython/core/pylabtools.py:152: UserWarning: Glyph 54 (6) missing from font(s) Noto Sans Meroitic.\n",
      "  fig.canvas.print_figure(bytes_io, **kw)\n",
      "/Users/henri/miniconda3/envs/henri_env/lib/python3.10/site-packages/IPython/core/pylabtools.py:152: UserWarning: Glyph 55 (7) missing from font(s) Noto Sans Meroitic.\n",
      "  fig.canvas.print_figure(bytes_io, **kw)\n",
      "/Users/henri/miniconda3/envs/henri_env/lib/python3.10/site-packages/IPython/core/pylabtools.py:152: UserWarning: Glyph 56 (8) missing from font(s) Noto Sans Meroitic.\n",
      "  fig.canvas.print_figure(bytes_io, **kw)\n",
      "/Users/henri/miniconda3/envs/henri_env/lib/python3.10/site-packages/IPython/core/pylabtools.py:152: UserWarning: Glyph 57 (9) missing from font(s) Noto Sans Meroitic.\n",
      "  fig.canvas.print_figure(bytes_io, **kw)\n",
      "/Users/henri/miniconda3/envs/henri_env/lib/python3.10/site-packages/IPython/core/pylabtools.py:152: UserWarning: Glyph 49 (1) missing from font(s) Noto Sans Meroitic.\n",
      "  fig.canvas.print_figure(bytes_io, **kw)\n",
      "/Users/henri/miniconda3/envs/henri_env/lib/python3.10/site-packages/IPython/core/pylabtools.py:152: UserWarning: Glyph 48 (0) missing from font(s) Noto Sans Meroitic.\n",
      "  fig.canvas.print_figure(bytes_io, **kw)\n",
      "/Users/henri/miniconda3/envs/henri_env/lib/python3.10/site-packages/IPython/core/pylabtools.py:152: UserWarning: Glyph 50 (2) missing from font(s) Noto Sans Meroitic.\n",
      "  fig.canvas.print_figure(bytes_io, **kw)\n",
      "/Users/henri/miniconda3/envs/henri_env/lib/python3.10/site-packages/IPython/core/pylabtools.py:152: UserWarning: Glyph 51 (3) missing from font(s) Noto Sans Meroitic.\n",
      "  fig.canvas.print_figure(bytes_io, **kw)\n",
      "/Users/henri/miniconda3/envs/henri_env/lib/python3.10/site-packages/IPython/core/pylabtools.py:152: UserWarning: Glyph 20301 (\\N{CJK UNIFIED IDEOGRAPH-4F4D}) missing from font(s) Noto Sans Meroitic.\n",
      "  fig.canvas.print_figure(bytes_io, **kw)\n",
      "/Users/henri/miniconda3/envs/henri_env/lib/python3.10/site-packages/IPython/core/pylabtools.py:152: UserWarning: Glyph 32622 (\\N{CJK UNIFIED IDEOGRAPH-7F6E}) missing from font(s) Noto Sans Meroitic.\n",
      "  fig.canvas.print_figure(bytes_io, **kw)\n",
      "/Users/henri/miniconda3/envs/henri_env/lib/python3.10/site-packages/IPython/core/pylabtools.py:152: UserWarning: Glyph 19968 (\\N{CJK UNIFIED IDEOGRAPH-4E00}) missing from font(s) Noto Sans Meroitic.\n",
      "  fig.canvas.print_figure(bytes_io, **kw)\n",
      "/Users/henri/miniconda3/envs/henri_env/lib/python3.10/site-packages/IPython/core/pylabtools.py:152: UserWarning: Glyph 32500 (\\N{CJK UNIFIED IDEOGRAPH-7EF4}) missing from font(s) Noto Sans Meroitic.\n",
      "  fig.canvas.print_figure(bytes_io, **kw)\n",
      "/Users/henri/miniconda3/envs/henri_env/lib/python3.10/site-packages/IPython/core/pylabtools.py:152: UserWarning: Glyph 21345 (\\N{CJK UNIFIED IDEOGRAPH-5361}) missing from font(s) Noto Sans Meroitic.\n",
      "  fig.canvas.print_figure(bytes_io, **kw)\n",
      "/Users/henri/miniconda3/envs/henri_env/lib/python3.10/site-packages/IPython/core/pylabtools.py:152: UserWarning: Glyph 23572 (\\N{CJK UNIFIED IDEOGRAPH-5C14}) missing from font(s) Noto Sans Meroitic.\n",
      "  fig.canvas.print_figure(bytes_io, **kw)\n",
      "/Users/henri/miniconda3/envs/henri_env/lib/python3.10/site-packages/IPython/core/pylabtools.py:152: UserWarning: Glyph 26364 (\\N{CJK UNIFIED IDEOGRAPH-66FC}) missing from font(s) Noto Sans Meroitic.\n",
      "  fig.canvas.print_figure(bytes_io, **kw)\n",
      "/Users/henri/miniconda3/envs/henri_env/lib/python3.10/site-packages/IPython/core/pylabtools.py:152: UserWarning: Glyph 28388 (\\N{CJK UNIFIED IDEOGRAPH-6EE4}) missing from font(s) Noto Sans Meroitic.\n",
      "  fig.canvas.print_figure(bytes_io, **kw)\n",
      "/Users/henri/miniconda3/envs/henri_env/lib/python3.10/site-packages/IPython/core/pylabtools.py:152: UserWarning: Glyph 27874 (\\N{CJK UNIFIED IDEOGRAPH-6CE2}) missing from font(s) Noto Sans Meroitic.\n",
      "  fig.canvas.print_figure(bytes_io, **kw)\n",
      "/Users/henri/miniconda3/envs/henri_env/lib/python3.10/site-packages/IPython/core/pylabtools.py:152: UserWarning: Glyph 22120 (\\N{CJK UNIFIED IDEOGRAPH-5668}) missing from font(s) Noto Sans Meroitic.\n",
      "  fig.canvas.print_figure(bytes_io, **kw)\n",
      "/Users/henri/miniconda3/envs/henri_env/lib/python3.10/site-packages/IPython/core/pylabtools.py:152: UserWarning: Glyph 31034 (\\N{CJK UNIFIED IDEOGRAPH-793A}) missing from font(s) Noto Sans Meroitic.\n",
      "  fig.canvas.print_figure(bytes_io, **kw)\n",
      "/Users/henri/miniconda3/envs/henri_env/lib/python3.10/site-packages/IPython/core/pylabtools.py:152: UserWarning: Glyph 20363 (\\N{CJK UNIFIED IDEOGRAPH-4F8B}) missing from font(s) Noto Sans Meroitic.\n",
      "  fig.canvas.print_figure(bytes_io, **kw)\n",
      "/Users/henri/miniconda3/envs/henri_env/lib/python3.10/site-packages/IPython/core/pylabtools.py:152: UserWarning: Glyph 52 (4) missing from font(s) Noto Sans Meroitic.\n",
      "  fig.canvas.print_figure(bytes_io, **kw)\n",
      "/Users/henri/miniconda3/envs/henri_env/lib/python3.10/site-packages/IPython/core/pylabtools.py:152: UserWarning: Glyph 53 (5) missing from font(s) Noto Sans Meroitic.\n",
      "  fig.canvas.print_figure(bytes_io, **kw)\n",
      "/Users/henri/miniconda3/envs/henri_env/lib/python3.10/site-packages/IPython/core/pylabtools.py:152: UserWarning: Glyph 26102 (\\N{CJK UNIFIED IDEOGRAPH-65F6}) missing from font(s) Noto Sans Meroitic.\n",
      "  fig.canvas.print_figure(bytes_io, **kw)\n",
      "/Users/henri/miniconda3/envs/henri_env/lib/python3.10/site-packages/IPython/core/pylabtools.py:152: UserWarning: Glyph 38388 (\\N{CJK UNIFIED IDEOGRAPH-95F4}) missing from font(s) Noto Sans Meroitic.\n",
      "  fig.canvas.print_figure(bytes_io, **kw)\n",
      "/Users/henri/miniconda3/envs/henri_env/lib/python3.10/site-packages/IPython/core/pylabtools.py:152: UserWarning: Glyph 27493 (\\N{CJK UNIFIED IDEOGRAPH-6B65}) missing from font(s) Noto Sans Meroitic.\n",
      "  fig.canvas.print_figure(bytes_io, **kw)\n",
      "/Users/henri/miniconda3/envs/henri_env/lib/python3.10/site-packages/IPython/core/pylabtools.py:152: UserWarning: Glyph 35266 (\\N{CJK UNIFIED IDEOGRAPH-89C2}) missing from font(s) Noto Sans Meroitic.\n",
      "  fig.canvas.print_figure(bytes_io, **kw)\n",
      "/Users/henri/miniconda3/envs/henri_env/lib/python3.10/site-packages/IPython/core/pylabtools.py:152: UserWarning: Glyph 27979 (\\N{CJK UNIFIED IDEOGRAPH-6D4B}) missing from font(s) Noto Sans Meroitic.\n",
      "  fig.canvas.print_figure(bytes_io, **kw)\n",
      "/Users/henri/miniconda3/envs/henri_env/lib/python3.10/site-packages/IPython/core/pylabtools.py:152: UserWarning: Glyph 20540 (\\N{CJK UNIFIED IDEOGRAPH-503C}) missing from font(s) Noto Sans Meroitic.\n",
      "  fig.canvas.print_figure(bytes_io, **kw)\n",
      "/Users/henri/miniconda3/envs/henri_env/lib/python3.10/site-packages/IPython/core/pylabtools.py:152: UserWarning: Glyph 30495 (\\N{CJK UNIFIED IDEOGRAPH-771F}) missing from font(s) Noto Sans Meroitic.\n",
      "  fig.canvas.print_figure(bytes_io, **kw)\n",
      "/Users/henri/miniconda3/envs/henri_env/lib/python3.10/site-packages/IPython/core/pylabtools.py:152: UserWarning: Glyph 23454 (\\N{CJK UNIFIED IDEOGRAPH-5B9E}) missing from font(s) Noto Sans Meroitic.\n",
      "  fig.canvas.print_figure(bytes_io, **kw)\n",
      "/Users/henri/miniconda3/envs/henri_env/lib/python3.10/site-packages/IPython/core/pylabtools.py:152: UserWarning: Glyph 20272 (\\N{CJK UNIFIED IDEOGRAPH-4F30}) missing from font(s) Noto Sans Meroitic.\n",
      "  fig.canvas.print_figure(bytes_io, **kw)\n",
      "/Users/henri/miniconda3/envs/henri_env/lib/python3.10/site-packages/IPython/core/pylabtools.py:152: UserWarning: Glyph 35745 (\\N{CJK UNIFIED IDEOGRAPH-8BA1}) missing from font(s) Noto Sans Meroitic.\n",
      "  fig.canvas.print_figure(bytes_io, **kw)\n"
     ]
    },
    {
     "data": {
      "image/png": "[encoded data removed]",
      "text/plain": [
       "<Figure size 800x500 with 1 Axes>"
      ]
     },
     "metadata": {},
     "output_type": "display_data"
    }
   ],
   "source": [
    "# filepath: /Users/henri/Documents/WIndSurf/Hello/kalmanFilter/kf_plot.ipynb\n",
    "# -*- coding: utf-8 -*-\n",
    "import matplotlib.pyplot as plt\n",
    "import numpy as np\n",
    "from matplotlib import rcParams\n",
    "import matplotlib as mpl\n",
    "\n",
    "# 更全面的中文字体设置\n",
    "# 设置中文字体\n",
    "plt.rcParams['font.family'] = 'sans-serif'\n",
    "plt.rcParams['font.sans-serif'] = 'SimSong'\n",
    "\n",
    "\n",
    "# ['PingFang SC', 'Arial Unicode MS', 'STHeiti', 'SimHei', 'Microsoft YaHei', 'WenQuanYi Micro Hei']\n",
    "plt.rcParams['axes.unicode_minus'] = False\n",
    "\n",
    "# 可选：强制刷新字体缓存\n",
    "# import matplotlib.font_manager as fm\n",
    "# fm._rebuild()\n",
    "\n",
    "\n",
    "\n",
    "\n",
    "# 读取Julia保存的数据（当前目录）\n",
    "measurements = np.loadtxt('./kf_measurements.txt')\n",
    "positions = np.loadtxt('./kf_positions.txt')\n",
    "estimates = np.loadtxt('./kf_estimates.txt')\n",
    "n = len(measurements)\n",
    "\n",
    "plt.figure(figsize=(8, 5))\n",
    "plt.scatter(range(1, n+1), measurements, label='观测值', color='gray', s=20)\n",
    "plt.plot(range(1, n+1), positions, label='真实位置', color='blue', linewidth=2)\n",
    "plt.plot(range(1, n+1), estimates, label='卡尔曼滤波估计', color='red', linewidth=2)\n",
    "plt.title('一维卡尔曼滤波器示例')\n",
    "plt.xlabel('时间步')\n",
    "plt.ylabel('位置')\n",
    "plt.legend()\n",
    "plt.grid(True)\n",
    "plt.tight_layout()\n",
    "plt.savefig('./plot_with_chinese.png')  # 保存图片到当前目录\n",
    "plt.show()\n"
   ]
  },
  {
   "cell_type": "code",
   "execution_count": 15,
   "id": "41d94868",
   "metadata": {},
   "outputs": [
    {
     "data": {
      "application/vnd.plotly.v1+json": {
       "config": {
        "plotlyServerURL": "https://plot.ly"
       },
       "data": [
        {
         "hovertemplate": "x=%{x}<br>y=%{y}<extra></extra>",
         "legendgroup": "",
         "line": {
          "color": "#636efa",
          "dash": "solid"
         },
         "marker": {
          "symbol": "circle"
         },
         "mode": "lines",
         "name": "",
         "orientation": "v",
         "showlegend": false,
         "type": "scatter",
         "x": {
          "bdata": "AAAAAAAAAAAxb2dIzNu5PzFvZ0jM28k/ZZNNNtlk0z8xb2dIzNvZP3+lQK1fKeA/ZZNNNtlk4z9LgVq/UqDmPzFvZ0jM2+k/F1100UUX7T9/pUCtXynwP3Icx3Ecx/E/ZZNNNtlk8z9YCtT6lQL1P0uBWr9SoPY/Pvjggw8++D8xb2dIzNv5PyTm7QyJefs/F1100UUX/T8K1PqVArX+P3+lQK1fKQBA+OCDDz74AEByHMdxHMcBQOtXCtT6lQJAZZNNNtlkA0DezpCYtzMEQFgK1PqVAgVA0UUXXXTRBUBLgVq/UqAGQMS8nSExbwdAPvjggw8+CEC3MyTm7QwJQDFvZ0jM2wlAq6qqqqqqCkAk5u0MiXkLQJ4hMW9nSAxAF1100UUXDUCRmLczJOYNQArU+pUCtQ5AhA8++OCDD0B/pUCtXykQQDtDYt7OkBBA+OCDDz74EEC1fqVArV8RQHIcx3EcxxFALrrooosuEkDrVwrU+pUSQKj1KwVq/RJAZZNNNtlkE0AiMW9nSMwTQN7OkJi3MxRAm2yyySabFEBYCtT6lQIVQBWo9SsFahVA0UUXXXTRFUCO4ziO4zgWQEuBWr9SoBZACB988MEHF0DEvJ0hMW8XQIFav1Kg1hdAPvjggw8+GED7lQK1fqUYQLczJObtDBlAdNFFF110GUAxb2dIzNsZQO4MiXk7QxpAq6qqqqqqGkBnSMzbGRIbQCTm7QyJeRtA4YMPPvjgG0CeITFvZ0gcQFq/UqDWrxxAF1100UUXHUDU+pUCtX4dQJGYtzMk5h1ATTbZZJNNHkAK1PqVArUeQMdxHMdxHB9AhA8++OCDH0BArV8pUOsfQH+lQK1fKSBAXXTRRRddIEA7Q2LezpAgQBoS83aGxCBA+OCDDz74IEDXrxSo9SshQLV+pUCtXyFAk0022WSTIUByHMdxHMchQFDrVwrU+iFALrrooosuIkANiXk7Q2IiQOtXCtT6lSJAyiabbLLJIkCo9SsFav0iQIbEvJ0hMSNAZZNNNtlkI0BDYt7OkJgjQCIxb2dIzCNAAAAAAAAAJEA=",
          "dtype": "f8"
         },
         "xaxis": "x",
         "y": {
          "bdata": "AAAAAAAAAABWWTD1i9C5P1FTX5rcrsk/gsOxNjYZ0z9VYwJ3JinZPxcA895s994/joZ7TnE64j/qrfXjmcnkP2ssuWGCIuc/Iswnjgo/6T+RI+TArxnrP1BTS0Sbrew/3oUw9q727T8Xi+UGkPHuP/kGhbqvm+8/OPqkFVLz7z8TWwZkkvfvP5TacY1lqO8/kSusMpoG7z8wOzaS1hPuPz2qWDqU0uw/jV22kxlG6z8pMUFVcXLpP4gS3/dfXOc/1MdGRVcJ5T/m1IwiaH/iP8q16nZlit8/8e22b6rD2T9j8JxQsrnTPwFWfWl/+Mo/+7miP25uvD8ew57TVQ2FP7c2U+b2Mbe/NJcb8IdkyL+cMtDaNXjSv4gGHUH0jdi/BM5I1Z1j3r8dASM//PThv5J0Xo5MieS/fMX9lQTo5r9AD0Xy9Arpv5gfWUKK7Oq/hEBctduH7L9UjGrat9jtv9nTBZKv2+6/Gw5iBB+O778QwS6FNO7vv7NU4lL1+u+/vLAjJUC0778fSaaDzRrvv6PqleQtMO6/ehV7l8X27L+nYD+HxnHrv2I/nOMnpem/D922x5uV57/CVOv4gkjlv1eewt3ew+K/ZCe00UEO4L8DKjT9e13av93iNNGlWdS/wgS4cmdBzL8fFrKmiwu/v2He8+4MDZW/u4zZNsGStD+7ZD9aihnHP7P36Je11tE/W/DDABjy1z9jyIBZ/M7dP8e6gdUKr+E/qWzMAXFI5D//7Lop6KzmP7yvSOox1ug/Al+5UKq+6j+T7POSVmHsP14AZw7yue0/UWGMa/nE7j/0lfnIs3/vP+x2ENY56O8/b1zFynr97z+a4IMvP7/vP+dX8G0pLu8/1DgMKbRL7j8lnQ9hLhrtP0+yCm21nOs/N08I2izX6T+2POhENM7nPxy7bUkbh+U/z6j/pdMH4z+wXUa44VbgP6UpR/aW9to/VbjOZAz51D8WLl/Qi4nNP2bQXAjp08A//1m7LN2Snz/o7+kO/fKxv37G6czszcW/VIdizLk00b98w03tlVXXvzzw4HCMOd2/Uk/z9Z5o4b8=",
          "dtype": "f8"
         },
         "yaxis": "y"
        }
       ],
       "layout": {
        "legend": {
         "tracegroupgap": 0
        },
        "template": {
         "data": {
          "bar": [
           {
            "error_x": {
             "color": "#2a3f5f"
            },
            "error_y": {
             "color": "#2a3f5f"
            },
            "marker": {
             "line": {
              "color": "#E5ECF6",
              "width": 0.5
             },
             "pattern": {
              "fillmode": "overlay",
              "size": 10,
              "solidity": 0.2
             }
            },
            "type": "bar"
           }
          ],
          "barpolar": [
           {
            "marker": {
             "line": {
              "color": "#E5ECF6",
              "width": 0.5
             },
             "pattern": {
              "fillmode": "overlay",
              "size": 10,
              "solidity": 0.2
             }
            },
            "type": "barpolar"
           }
          ],
          "carpet": [
           {
            "aaxis": {
             "endlinecolor": "#2a3f5f",
             "gridcolor": "white",
             "linecolor": "white",
             "minorgridcolor": "white",
             "startlinecolor": "#2a3f5f"
            },
            "baxis": {
             "endlinecolor": "#2a3f5f",
             "gridcolor": "white",
             "linecolor": "white",
             "minorgridcolor": "white",
             "startlinecolor": "#2a3f5f"
            },
            "type": "carpet"
           }
          ],
          "choropleth": [
           {
            "colorbar": {
             "outlinewidth": 0,
             "ticks": ""
            },
            "type": "choropleth"
           }
          ],
          "contour": [
           {
            "colorbar": {
             "outlinewidth": 0,
             "ticks": ""
            },
            "colorscale": [
             [
              0,
              "#0d0887"
             ],
             [
              0.1111111111111111,
              "#46039f"
             ],
             [
              0.2222222222222222,
              "#7201a8"
             ],
             [
              0.3333333333333333,
              "#9c179e"
             ],
             [
              0.4444444444444444,
              "#bd3786"
             ],
             [
              0.5555555555555556,
              "#d8576b"
             ],
             [
              0.6666666666666666,
              "#ed7953"
             ],
             [
              0.7777777777777778,
              "#fb9f3a"
             ],
             [
              0.8888888888888888,
              "#fdca26"
             ],
             [
              1,
              "#f0f921"
             ]
            ],
            "type": "contour"
           }
          ],
          "contourcarpet": [
           {
            "colorbar": {
             "outlinewidth": 0,
             "ticks": ""
            },
            "type": "contourcarpet"
           }
          ],
          "heatmap": [
           {
            "colorbar": {
             "outlinewidth": 0,
             "ticks": ""
            },
            "colorscale": [
             [
              0,
              "#0d0887"
             ],
             [
              0.1111111111111111,
              "#46039f"
             ],
             [
              0.2222222222222222,
              "#7201a8"
             ],
             [
              0.3333333333333333,
              "#9c179e"
             ],
             [
              0.4444444444444444,
              "#bd3786"
             ],
             [
              0.5555555555555556,
              "#d8576b"
             ],
             [
              0.6666666666666666,
              "#ed7953"
             ],
             [
              0.7777777777777778,
              "#fb9f3a"
             ],
             [
              0.8888888888888888,
              "#fdca26"
             ],
             [
              1,
              "#f0f921"
             ]
            ],
            "type": "heatmap"
           }
          ],
          "histogram": [
           {
            "marker": {
             "pattern": {
              "fillmode": "overlay",
              "size": 10,
              "solidity": 0.2
             }
            },
            "type": "histogram"
           }
          ],
          "histogram2d": [
           {
            "colorbar": {
             "outlinewidth": 0,
             "ticks": ""
            },
            "colorscale": [
             [
              0,
              "#0d0887"
             ],
             [
              0.1111111111111111,
              "#46039f"
             ],
             [
              0.2222222222222222,
              "#7201a8"
             ],
             [
              0.3333333333333333,
              "#9c179e"
             ],
             [
              0.4444444444444444,
              "#bd3786"
             ],
             [
              0.5555555555555556,
              "#d8576b"
             ],
             [
              0.6666666666666666,
              "#ed7953"
             ],
             [
              0.7777777777777778,
              "#fb9f3a"
             ],
             [
              0.8888888888888888,
              "#fdca26"
             ],
             [
              1,
              "#f0f921"
             ]
            ],
            "type": "histogram2d"
           }
          ],
          "histogram2dcontour": [
           {
            "colorbar": {
             "outlinewidth": 0,
             "ticks": ""
            },
            "colorscale": [
             [
              0,
              "#0d0887"
             ],
             [
              0.1111111111111111,
              "#46039f"
             ],
             [
              0.2222222222222222,
              "#7201a8"
             ],
             [
              0.3333333333333333,
              "#9c179e"
             ],
             [
              0.4444444444444444,
              "#bd3786"
             ],
             [
              0.5555555555555556,
              "#d8576b"
             ],
             [
              0.6666666666666666,
              "#ed7953"
             ],
             [
              0.7777777777777778,
              "#fb9f3a"
             ],
             [
              0.8888888888888888,
              "#fdca26"
             ],
             [
              1,
              "#f0f921"
             ]
            ],
            "type": "histogram2dcontour"
           }
          ],
          "mesh3d": [
           {
            "colorbar": {
             "outlinewidth": 0,
             "ticks": ""
            },
            "type": "mesh3d"
           }
          ],
          "parcoords": [
           {
            "line": {
             "colorbar": {
              "outlinewidth": 0,
              "ticks": ""
             }
            },
            "type": "parcoords"
           }
          ],
          "pie": [
           {
            "automargin": true,
            "type": "pie"
           }
          ],
          "scatter": [
           {
            "fillpattern": {
             "fillmode": "overlay",
             "size": 10,
             "solidity": 0.2
            },
            "type": "scatter"
           }
          ],
          "scatter3d": [
           {
            "line": {
             "colorbar": {
              "outlinewidth": 0,
              "ticks": ""
             }
            },
            "marker": {
             "colorbar": {
              "outlinewidth": 0,
              "ticks": ""
             }
            },
            "type": "scatter3d"
           }
          ],
          "scattercarpet": [
           {
            "marker": {
             "colorbar": {
              "outlinewidth": 0,
              "ticks": ""
             }
            },
            "type": "scattercarpet"
           }
          ],
          "scattergeo": [
           {
            "marker": {
             "colorbar": {
              "outlinewidth": 0,
              "ticks": ""
             }
            },
            "type": "scattergeo"
           }
          ],
          "scattergl": [
           {
            "marker": {
             "colorbar": {
              "outlinewidth": 0,
              "ticks": ""
             }
            },
            "type": "scattergl"
           }
          ],
          "scattermap": [
           {
            "marker": {
             "colorbar": {
              "outlinewidth": 0,
              "ticks": ""
             }
            },
            "type": "scattermap"
           }
          ],
          "scattermapbox": [
           {
            "marker": {
             "colorbar": {
              "outlinewidth": 0,
              "ticks": ""
             }
            },
            "type": "scattermapbox"
           }
          ],
          "scatterpolar": [
           {
            "marker": {
             "colorbar": {
              "outlinewidth": 0,
              "ticks": ""
             }
            },
            "type": "scatterpolar"
           }
          ],
          "scatterpolargl": [
           {
            "marker": {
             "colorbar": {
              "outlinewidth": 0,
              "ticks": ""
             }
            },
            "type": "scatterpolargl"
           }
          ],
          "scatterternary": [
           {
            "marker": {
             "colorbar": {
              "outlinewidth": 0,
              "ticks": ""
             }
            },
            "type": "scatterternary"
           }
          ],
          "surface": [
           {
            "colorbar": {
             "outlinewidth": 0,
             "ticks": ""
            },
            "colorscale": [
             [
              0,
              "#0d0887"
             ],
             [
              0.1111111111111111,
              "#46039f"
             ],
             [
              0.2222222222222222,
              "#7201a8"
             ],
             [
              0.3333333333333333,
              "#9c179e"
             ],
             [
              0.4444444444444444,
              "#bd3786"
             ],
             [
              0.5555555555555556,
              "#d8576b"
             ],
             [
              0.6666666666666666,
              "#ed7953"
             ],
             [
              0.7777777777777778,
              "#fb9f3a"
             ],
             [
              0.8888888888888888,
              "#fdca26"
             ],
             [
              1,
              "#f0f921"
             ]
            ],
            "type": "surface"
           }
          ],
          "table": [
           {
            "cells": {
             "fill": {
              "color": "#EBF0F8"
             },
             "line": {
              "color": "white"
             }
            },
            "header": {
             "fill": {
              "color": "#C8D4E3"
             },
             "line": {
              "color": "white"
             }
            },
            "type": "table"
           }
          ]
         },
         "layout": {
          "annotationdefaults": {
           "arrowcolor": "#2a3f5f",
           "arrowhead": 0,
           "arrowwidth": 1
          },
          "autotypenumbers": "strict",
          "coloraxis": {
           "colorbar": {
            "outlinewidth": 0,
            "ticks": ""
           }
          },
          "colorscale": {
           "diverging": [
            [
             0,
             "#8e0152"
            ],
            [
             0.1,
             "#c51b7d"
            ],
            [
             0.2,
             "#de77ae"
            ],
            [
             0.3,
             "#f1b6da"
            ],
            [
             0.4,
             "#fde0ef"
            ],
            [
             0.5,
             "#f7f7f7"
            ],
            [
             0.6,
             "#e6f5d0"
            ],
            [
             0.7,
             "#b8e186"
            ],
            [
             0.8,
             "#7fbc41"
            ],
            [
             0.9,
             "#4d9221"
            ],
            [
             1,
             "#276419"
            ]
           ],
           "sequential": [
            [
             0,
             "#0d0887"
            ],
            [
             0.1111111111111111,
             "#46039f"
            ],
            [
             0.2222222222222222,
             "#7201a8"
            ],
            [
             0.3333333333333333,
             "#9c179e"
            ],
            [
             0.4444444444444444,
             "#bd3786"
            ],
            [
             0.5555555555555556,
             "#d8576b"
            ],
            [
             0.6666666666666666,
             "#ed7953"
            ],
            [
             0.7777777777777778,
             "#fb9f3a"
            ],
            [
             0.8888888888888888,
             "#fdca26"
            ],
            [
             1,
             "#f0f921"
            ]
           ],
           "sequentialminus": [
            [
             0,
             "#0d0887"
            ],
            [
             0.1111111111111111,
             "#46039f"
            ],
            [
             0.2222222222222222,
             "#7201a8"
            ],
            [
             0.3333333333333333,
             "#9c179e"
            ],
            [
             0.4444444444444444,
             "#bd3786"
            ],
            [
             0.5555555555555556,
             "#d8576b"
            ],
            [
             0.6666666666666666,
             "#ed7953"
            ],
            [
             0.7777777777777778,
             "#fb9f3a"
            ],
            [
             0.8888888888888888,
             "#fdca26"
            ],
            [
             1,
             "#f0f921"
            ]
           ]
          },
          "colorway": [
           "#636efa",
           "#EF553B",
           "#00cc96",
           "#ab63fa",
           "#FFA15A",
           "#19d3f3",
           "#FF6692",
           "#B6E880",
           "#FF97FF",
           "#FECB52"
          ],
          "font": {
           "color": "#2a3f5f"
          },
          "geo": {
           "bgcolor": "white",
           "lakecolor": "white",
           "landcolor": "#E5ECF6",
           "showlakes": true,
           "showland": true,
           "subunitcolor": "white"
          },
          "hoverlabel": {
           "align": "left"
          },
          "hovermode": "closest",
          "mapbox": {
           "style": "light"
          },
          "paper_bgcolor": "white",
          "plot_bgcolor": "#E5ECF6",
          "polar": {
           "angularaxis": {
            "gridcolor": "white",
            "linecolor": "white",
            "ticks": ""
           },
           "bgcolor": "#E5ECF6",
           "radialaxis": {
            "gridcolor": "white",
            "linecolor": "white",
            "ticks": ""
           }
          },
          "scene": {
           "xaxis": {
            "backgroundcolor": "#E5ECF6",
            "gridcolor": "white",
            "gridwidth": 2,
            "linecolor": "white",
            "showbackground": true,
            "ticks": "",
            "zerolinecolor": "white"
           },
           "yaxis": {
            "backgroundcolor": "#E5ECF6",
            "gridcolor": "white",
            "gridwidth": 2,
            "linecolor": "white",
            "showbackground": true,
            "ticks": "",
            "zerolinecolor": "white"
           },
           "zaxis": {
            "backgroundcolor": "#E5ECF6",
            "gridcolor": "white",
            "gridwidth": 2,
            "linecolor": "white",
            "showbackground": true,
            "ticks": "",
            "zerolinecolor": "white"
           }
          },
          "shapedefaults": {
           "line": {
            "color": "#2a3f5f"
           }
          },
          "ternary": {
           "aaxis": {
            "gridcolor": "white",
            "linecolor": "white",
            "ticks": ""
           },
           "baxis": {
            "gridcolor": "white",
            "linecolor": "white",
            "ticks": ""
           },
           "bgcolor": "#E5ECF6",
           "caxis": {
            "gridcolor": "white",
            "linecolor": "white",
            "ticks": ""
           }
          },
          "title": {
           "x": 0.05
          },
          "xaxis": {
           "automargin": true,
           "gridcolor": "white",
           "linecolor": "white",
           "ticks": "",
           "title": {
            "standoff": 15
           },
           "zerolinecolor": "white",
           "zerolinewidth": 2
          },
          "yaxis": {
           "automargin": true,
           "gridcolor": "white",
           "linecolor": "white",
           "ticks": "",
           "title": {
            "standoff": 15
           },
           "zerolinecolor": "white",
           "zerolinewidth": 2
          }
         }
        },
        "title": {
         "text": "正弦波示例"
        },
        "xaxis": {
         "anchor": "y",
         "domain": [
          0,
          1
         ],
         "title": {
          "text": "时间 (秒)"
         }
        },
        "yaxis": {
         "anchor": "x",
         "domain": [
          0,
          1
         ],
         "title": {
          "text": "幅度"
         }
        }
       }
      }
     },
     "metadata": {},
     "output_type": "display_data"
    }
   ],
   "source": [
    "import plotly as plotly\n",
    "import plotly.express as px\n",
    "import numpy as np\n",
    "\n",
    "x = np.linspace(0, 10, 100)\n",
    "y = np.sin(x)\n",
    "fig = px.line(x=x, y=y, title='正弦波示例')\n",
    "fig.update_layout(xaxis_title='时间 (秒)', yaxis_title='幅度')\n",
    "fig.show()"
   ]
  }
 ],
 "metadata": {
  "kernelspec": {
   "display_name": "henri_env",
   "language": "python",
   "name": "python3"
  },
  "language_info": {
   "codemirror_mode": {
    "name": "ipython",
    "version": 3
   },
   "file_extension": ".py",
   "mimetype": "text/x-python",
   "name": "python",
   "nbconvert_exporter": "python",
   "pygments_lexer": "ipython3",
   "version": "3.10.8"
  }
 },
 "nbformat": 4,
 "nbformat_minor": 5
}
