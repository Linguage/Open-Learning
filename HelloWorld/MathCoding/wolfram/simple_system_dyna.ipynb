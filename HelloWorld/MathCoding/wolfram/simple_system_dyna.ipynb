{
 "cells": [
  {
   "cell_type": "markdown",
   "metadata": {},
   "source": [
    "(*清除所有全局变量*)ClearAll[\"Global`*\"]\n",
    "\n",
    "(*1. 定义系统参数*)\n",
    "params = {m,(*质量*)J,(*转动惯量*)k1, k2,(*弹簧刚度*)c1, c2,(*阻尼系数*)l1, \n",
    "   l2  (*距离参数*)};\n",
    "SetAttributes[params, Constant]\n",
    "\n",
    "(*2. 定义广义坐标*)\n",
    "coordinates = {y[t],(*垂向位移*)\\[Theta][t],(*转角位移*)u1[t], u2[t] (*激励位移*)};\n",
    "\n",
    "(*3. 计算系统动能*)\n",
    "T = 1/2  m  D[y[t], t]^2 + 1/2  J  D[\\[Theta][t], t]^2;\n",
    "\n",
    "(*4. 计算系统势能*)\n",
    "V = 1/2  k1  (y[t] - l1  \\[Theta][t] - u1[t])^2 + \n",
    "   1/2  k2  (y[t] + l2  \\[Theta][t] - u2[t])^2;\n",
    "\n",
    "(*5. 计算耗散函数*)\n",
    "R = 1/2  c1  (D[y[t], t] - l1  D[\\[Theta][t], t] - D[u1[t], t])^2 + \n",
    "   1/2  c2  (D[y[t], t] + l2  D[\\[Theta][t], t] - D[u2[t], t])^2;\n",
    "   \n",
    "   (*应用拉格朗日方程并化简*)\n",
    "eqns = Simplify[{(*对y的拉格朗日方程*)\n",
    "    D[D[T, D[y[t], t]], t] - D[T, y[t]] + D[V, y[t]] + \n",
    "      D[R, D[y[t], t]] == 0,(*对\\[Theta]的拉格朗日方程*)\n",
    "    D[D[T, D[\\[Theta][t], t]], t] - D[T, \\[Theta][t]] + \n",
    "      D[V, \\[Theta][t]] + D[R, D[\\[Theta][t], t]] == 0}];\n",
    "\n",
    "(*提取系数并输出*)\n",
    "coeffs = \n",
    "  Collect[eqns, {y''[t], \\[Theta]''[t], y'[t], \\[Theta]'[t], \n",
    "    y[t], \\[Theta][t]}, Simplify];\n",
    "Print[\"动力学方程：\"];\n",
    "Print[coeffs]"
   ]
  },
  {
   "cell_type": "code",
   "execution_count": null,
   "metadata": {
    "vscode": {
     "languageId": "python"
    }
   },
   "outputs": [],
   "source": [
    "(*将方程重组为标准形式*)stdEqns = Simplify[eqns /. Equal -> Subtract];\n",
    "\n",
    "(*提取二阶导数项系数（质量矩阵）*)\n",
    "M = Table[\n",
    "   Coefficient[stdEqns[[i]], {y''[t], \\[Theta]''[t]}[[j]]], {i, 1, \n",
    "    2}, {j, 1, 2}];\n",
    "\n",
    "(*提取一阶导数项系数（阻尼矩阵）*)\n",
    "Cd = Table[\n",
    "   Coefficient[stdEqns[[i]], {y'[t], \\[Theta]'[t]}[[j]]], {i, 1, \n",
    "    2}, {j, 1, 2}];\n",
    "\n",
    "(*提取位移项系数（刚度矩阵）*)\n",
    "K = Table[\n",
    "   Coefficient[stdEqns[[i]], {y[t], \\[Theta][t]}[[j]]], {i, 1, 2}, {j,\n",
    "     1, 2}];\n",
    "\n",
    "(*显示结果*)\n",
    "Print[\"质量矩阵M = \"];\n",
    "Print[MatrixForm[Simplify[M]]];\n",
    "Print[\"阻尼矩阵Cd = \"];\n",
    "Print[MatrixForm[Simplify[Cd]]];\n",
    "Print[\"刚度矩阵K = \"];\n",
    "Print[MatrixForm[Simplify[K]]];"
   ]
  },
  {
   "cell_type": "code",
   "execution_count": 201,
   "metadata": {
    "vscode": {
     "languageId": "commonlisp"
    }
   },
   "outputs": [
    {
     "data": {
      "text/html": [
       "<div><img alt=\"Output\" src=\"data:image/png;base64,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\"></div>"
      ],
      "text/plain": [
       "             g Sin[θ1[t]]             g Sin[θ2[t]]\n",
       "{{θ1''[t] -> ------------, θ2''[t] -> ------------}}\n",
       "                  l                        l"
      ]
     },
     "execution_count": 201,
     "metadata": {
      "text/html": [],
      "text/plain": []
     },
     "output_type": "execute_result"
    }
   ],
   "source": [
    "ClearAll[\"Global`*\"]\n",
    "(* Define symbolic parameters *)\n",
    "m = Symbol[\"m\"];  (* Mass *)\n",
    "l = Symbol[\"l\"];  (* Length *)\n",
    "g = Symbol[\"g\"];  (* Gravitational acceleration *)\n",
    "t = Symbol[\"t\"];  (* Time *)\n",
    "\n",
    "\n",
    "(* Define generalized coordinates *)\n",
    "q = {θ1[t], θ2[t]};  (* Generalized coordinates *)\n",
    "qd = D[#, t] & /@ q;  (* First derivatives (velocities) *)\n",
    "qdd = D[#, t] & /@ qd;  (* Second derivatives (accelerations) *)\n",
    "\n",
    "\n",
    "(* Define kinetic and potential energies *)\n",
    "T = 1/2 m l^2 (qd[[1]]^2 + qd[[2]]^2);  (* Kinetic energy *)\n",
    "V = m g l (Cos[θ1[t]] + Cos[θ2[t]]);  (* Potential energy *)\n",
    "\n",
    "(* Define Lagrangian *)\n",
    "L = T - V;\n",
    "\n",
    "(* Define Lagrange equations *)\n",
    "lagrangeEqns = Table[\n",
    "  D[D[L, qd[[i]]], t] - D[L, q[[i]]] == 0,\n",
    "  {i, Length[q]}\n",
    "];\n",
    "\n",
    "(* Solve the equations of motion *)\n",
    "solutions = Solve[lagrangeEqns, qdd];\n",
    "\n",
    "(* Display the solutions *)\n",
    "solutions"
   ]
  }
 ],
 "metadata": {
  "kernelspec": {
   "display_name": "Wolfram Language 14.1",
   "language": "Wolfram Language",
   "name": "wolframlanguage14.1"
  },
  "language_info": {
   "codemirror_mode": "mathematica",
   "file_extension": ".m",
   "mimetype": "application/vnd.wolfram.m",
   "name": "Wolfram Language",
   "pygments_lexer": "mathematica",
   "version": "12.0"
  }
 },
 "nbformat": 4,
 "nbformat_minor": 2
}
