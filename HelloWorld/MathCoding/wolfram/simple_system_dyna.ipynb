{
 "cells": [
  {
   "cell_type": "code",
   "execution_count": null,
   "metadata": {},
   "outputs": [],
   "source": [
    "(*清除所有全局变量*)ClearAll[\"Global`*\"]\n",
    "\n",
    "(*1. 定义系统参数*)\n",
    "params = {m,(*质量*)J,(*转动惯量*)k1, k2,(*弹簧刚度*)c1, c2,(*阻尼系数*)l1, \n",
    "   l2  (*距离参数*)};\n",
    "SetAttributes[params, Constant]\n",
    "\n",
    "(*2. 定义广义坐标*)\n",
    "coordinates = {y[t],(*垂向位移*)\\[Theta][t],(*转角位移*)u1[t], u2[t] (*激励位移*)};\n",
    "\n",
    "(*3. 计算系统动能*)\n",
    "T = 1/2  m  D[y[t], t]^2 + 1/2  J  D[\\[Theta][t], t]^2;\n",
    "\n",
    "(*4. 计算系统势能*)\n",
    "V = 1/2  k1  (y[t] - l1  \\[Theta][t] - u1[t])^2 + \n",
    "   1/2  k2  (y[t] + l2  \\[Theta][t] - u2[t])^2;\n",
    "\n",
    "(*5. 计算耗散函数*)\n",
    "R = 1/2  c1  (D[y[t], t] - l1  D[\\[Theta][t], t] - D[u1[t], t])^2 + \n",
    "   1/2  c2  (D[y[t], t] + l2  D[\\[Theta][t], t] - D[u2[t], t])^2;\n",
    "   \n",
    "   (*应用拉格朗日方程并化简*)\n",
    "eqns = Simplify[{(*对y的拉格朗日方程*)\n",
    "    D[D[T, D[y[t], t]], t] - D[T, y[t]] + D[V, y[t]] + \n",
    "      D[R, D[y[t], t]] == 0,(*对\\[Theta]的拉格朗日方程*)\n",
    "    D[D[T, D[\\[Theta][t], t]], t] - D[T, \\[Theta][t]] + \n",
    "      D[V, \\[Theta][t]] + D[R, D[\\[Theta][t], t]] == 0}];\n",
    "\n",
    "(*提取系数并输出*)\n",
    "coeffs = \n",
    "  Collect[eqns, {y''[t], \\[Theta]''[t], y'[t], \\[Theta]'[t], \n",
    "    y[t], \\[Theta][t]}, Simplify];\n",
    "Print[\"动力学方程：\"];\n",
    "Print[coeffs]"
   ]
  },
  {
   "cell_type": "code",
   "execution_count": null,
   "metadata": {},
   "outputs": [],
   "source": [
    "(*将方程重组为标准形式*)stdEqns = Simplify[eqns /. Equal -> Subtract];\n",
    "\n",
    "(*提取二阶导数项系数（质量矩阵）*)\n",
    "M = Table[\n",
    "   Coefficient[stdEqns[[i]], {y''[t], \\[Theta]''[t]}[[j]]], {i, 1, \n",
    "    2}, {j, 1, 2}];\n",
    "\n",
    "(*提取一阶导数项系数（阻尼矩阵）*)\n",
    "Cd = Table[\n",
    "   Coefficient[stdEqns[[i]], {y'[t], \\[Theta]'[t]}[[j]]], {i, 1, \n",
    "    2}, {j, 1, 2}];\n",
    "\n",
    "(*提取位移项系数（刚度矩阵）*)\n",
    "K = Table[\n",
    "   Coefficient[stdEqns[[i]], {y[t], \\[Theta][t]}[[j]]], {i, 1, 2}, {j,\n",
    "     1, 2}];\n",
    "\n",
    "(*显示结果*)\n",
    "Print[\"质量矩阵M = \"];\n",
    "Print[MatrixForm[Simplify[M]]];\n",
    "Print[\"阻尼矩阵Cd = \"];\n",
    "Print[MatrixForm[Simplify[Cd]]];\n",
    "Print[\"刚度矩阵K = \"];\n",
    "Print[MatrixForm[Simplify[K]]];"
   ]
  }
 ],
 "metadata": {
  "kernelspec": {
   "display_name": "henri_env",
   "language": "python",
   "name": "python3"
  },
  "language_info": {
   "name": "python",
   "version": "3.12.7"
  }
 },
 "nbformat": 4,
 "nbformat_minor": 2
}
