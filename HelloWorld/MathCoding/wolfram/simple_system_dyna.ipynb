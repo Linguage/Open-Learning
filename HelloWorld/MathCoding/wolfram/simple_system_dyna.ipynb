{
 "cells": [
  {
   "cell_type": "code",
   "execution_count": null,
   "metadata": {
    "vscode": {
     "languageId": "python"
    }
   },
   "outputs": [],
   "source": [
    "(*清除所有全局变量*)ClearAll[\"Global`*\"]\n",
    "\n",
    "(*1. 定义系统参数*)\n",
    "params = {m,(*质量*)J,(*转动惯量*)k1, k2,(*弹簧刚度*)c1, c2,(*阻尼系数*)l1, \n",
    "   l2  (*距离参数*)};\n",
    "SetAttributes[params, Constant]\n",
    "\n",
    "(*2. 定义广义坐标*)\n",
    "coordinates = {y[t],(*垂向位移*)\\[Theta][t],(*转角位移*)u1[t], u2[t] (*激励位移*)};\n",
    "\n",
    "(*3. 计算系统动能*)\n",
    "T = 1/2  m  D[y[t], t]^2 + 1/2  J  D[\\[Theta][t], t]^2;\n",
    "\n",
    "(*4. 计算系统势能*)\n",
    "V = 1/2  k1  (y[t] - l1  \\[Theta][t] - u1[t])^2 + \n",
    "   1/2  k2  (y[t] + l2  \\[Theta][t] - u2[t])^2;\n",
    "\n",
    "(*5. 计算耗散函数*)\n",
    "R = 1/2  c1  (D[y[t], t] - l1  D[\\[Theta][t], t] - D[u1[t], t])^2 + \n",
    "   1/2  c2  (D[y[t], t] + l2  D[\\[Theta][t], t] - D[u2[t], t])^2;\n",
    "   \n",
    "   (*应用拉格朗日方程并化简*)\n",
    "eqns = Simplify[{(*对y的拉格朗日方程*)\n",
    "    D[D[T, D[y[t], t]], t] - D[T, y[t]] + D[V, y[t]] + \n",
    "      D[R, D[y[t], t]] == 0,(*对\\[Theta]的拉格朗日方程*)\n",
    "    D[D[T, D[\\[Theta][t], t]], t] - D[T, \\[Theta][t]] + \n",
    "      D[V, \\[Theta][t]] + D[R, D[\\[Theta][t], t]] == 0}];\n",
    "\n",
    "(*提取系数并输出*)\n",
    "coeffs = \n",
    "  Collect[eqns, {y''[t], \\[Theta]''[t], y'[t], \\[Theta]'[t], \n",
    "    y[t], \\[Theta][t]}, Simplify];\n",
    "Print[\"动力学方程：\"];\n",
    "Print[coeffs]"
   ]
  },
  {
   "cell_type": "code",
   "execution_count": null,
   "metadata": {
    "vscode": {
     "languageId": "python"
    }
   },
   "outputs": [],
   "source": [
    "(*将方程重组为标准形式*)stdEqns = Simplify[eqns /. Equal -> Subtract];\n",
    "\n",
    "(*提取二阶导数项系数（质量矩阵）*)\n",
    "M = Table[\n",
    "   Coefficient[stdEqns[[i]], {y''[t], \\[Theta]''[t]}[[j]]], {i, 1, \n",
    "    2}, {j, 1, 2}];\n",
    "\n",
    "(*提取一阶导数项系数（阻尼矩阵）*)\n",
    "Cd = Table[\n",
    "   Coefficient[stdEqns[[i]], {y'[t], \\[Theta]'[t]}[[j]]], {i, 1, \n",
    "    2}, {j, 1, 2}];\n",
    "\n",
    "(*提取位移项系数（刚度矩阵）*)\n",
    "K = Table[\n",
    "   Coefficient[stdEqns[[i]], {y[t], \\[Theta][t]}[[j]]], {i, 1, 2}, {j,\n",
    "     1, 2}];\n",
    "\n",
    "(*显示结果*)\n",
    "Print[\"质量矩阵M = \"];\n",
    "Print[MatrixForm[Simplify[M]]];\n",
    "Print[\"阻尼矩阵Cd = \"];\n",
    "Print[MatrixForm[Simplify[Cd]]];\n",
    "Print[\"刚度矩阵K = \"];\n",
    "Print[MatrixForm[Simplify[K]]];"
   ]
  },
  {
   "cell_type": "code",
   "execution_count": 243,
   "metadata": {
    "vscode": {
     "languageId": "commonlisp"
    }
   },
   "outputs": [
    {
     "data": {
      "text/html": [
       "<div><img alt=\"Output\" src=\"data:image/png;base64,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\"></div>"
      ],
      "text/plain": [
       "               -(g Sin[θ1[t]]) - g Sin[θ2[t]]\n",
       "{{θ1''[t] -> -(------------------------------), \n",
       "                             l\n",
       " \n",
       "                  -(g Sin[θ1[t]]) - 2 g Sin[θ2[t]]\n",
       ">    θ2''[t] -> -(--------------------------------)}}\n",
       "                                 l"
      ]
     },
     "execution_count": 243,
     "metadata": {
      "text/html": [],
      "text/plain": []
     },
     "output_type": "execute_result"
    }
   ],
   "source": [
    "ClearAll[\"Global`*\"]\n",
    "(* Define symbolic parameters *)\n",
    "m = Symbol[\"m\"];  (* Mass *)\n",
    "l = Symbol[\"l\"];  (* Length *)\n",
    "g = Symbol[\"g\"];  (* Gravitational acceleration *)\n",
    "t = Symbol[\"t\"];  (* Time *)\n",
    "\n",
    "\n",
    "(* Define generalized coordinates *)\n",
    "q = {θ1[t], θ2[t]};  (* Generalized coordinates *)\n",
    "qd = D[#, t] & /@ q;  (* First derivatives (velocities) *)\n",
    "qdd = D[#, t] & /@ qd;  (* Second derivatives (accelerations) *)\n",
    "\n",
    "\n",
    "(* Define kinetic and potential energies *)\n",
    "T = 1/2 m l^2 (qd[[1]]^2 + (qd[[2]]-qd[[1]])^2);  (* Kinetic energy *)\n",
    "V = m g l (Cos[θ1[t]] + Cos[θ2[t]]);  (* Potential energy *)\n",
    "\n",
    "(* Define Lagrangian *)\n",
    "L = T - V;\n",
    "\n",
    "(* Define Lagrange equations *)\n",
    "lagrangeEqns = Table[\n",
    "  D[D[L, qd[[i]]], t] - D[L, q[[i]]] == 0,\n",
    "  {i, Length[q]}\n",
    "];\n",
    "\n",
    "(* Solve the equations of motion *)\n",
    "solutions = Solve[lagrangeEqns, qdd];\n",
    "\n",
    "(* Display the solutions *)\n",
    "solutions"
   ]
  }
 ],
 "metadata": {
  "kernelspec": {
   "display_name": "Wolfram Language 14.1",
   "language": "Wolfram Language",
   "name": "wolframlanguage14.1"
  },
  "language_info": {
   "codemirror_mode": "mathematica",
   "file_extension": ".m",
   "mimetype": "application/vnd.wolfram.m",
   "name": "Wolfram Language",
   "pygments_lexer": "mathematica",
   "version": "12.0"
  }
 },
 "nbformat": 4,
 "nbformat_minor": 2
}
