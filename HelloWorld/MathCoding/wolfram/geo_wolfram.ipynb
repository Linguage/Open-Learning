{
 "cells": [
  {
   "cell_type": "code",
   "execution_count": null,
   "metadata": {
    "vscode": {
     "languageId": "plaintext"
    }
   },
   "outputs": [
    {
     "ename": "",
     "evalue": "",
     "output_type": "error",
     "traceback": [
      "\u001b[1;31m在当前单元格或上一个单元格中执行代码时 Kernel 崩溃。\n",
      "\u001b[1;31m请查看单元格中的代码，以确定故障的可能原因。\n",
      "\u001b[1;31m单击<a href='https://aka.ms/vscodeJupyterKernelCrash'>此处</a>了解详细信息。\n",
      "\u001b[1;31m有关更多详细信息，请查看 Jupyter <a href='command:jupyter.viewOutput'>log</a>。"
     ]
    }
   ],
   "source": [
    "(* 定义参数和常数 *)\n",
    "r = Symbol[\"r\"];\n",
    "alpha = Symbol[\"alpha\"];\n",
    "phi2 = Symbol[\"phi2\"];\n",
    "theta = Symbol[\"theta\"];\n",
    "zeta = Symbol[\"zeta\"];\n",
    "H = Symbol[\"H\"];\n",
    "r1 = Symbol[\"r1\"];\n",
    "r2 = Symbol[\"r2\"];\n",
    "p = Symbol[\"p\"];\n",
    "\n",
    "(* 定义过渡曲面的双参数方程 *)\n",
    "x3 = r Cos[alpha - phi2 - theta + zeta] + (H - r1) Sin[phi2 + theta - zeta] + r2 Cos[phi2 + theta - zeta];\n",
    "y3 = -r Sin[alpha - phi2 - theta + zeta] - (H - r1) Cos[phi2 + theta - zeta] + r2 Sin[phi2 + theta - zeta];\n",
    "z3 = p theta;\n",
    "\n",
    "(* 计算偏导数 *)\n",
    "dx_dphi2 = D[x3, phi2];\n",
    "dy_dphi2 = D[y3, phi2];\n",
    "dz_dphi2 = D[z3, phi2];\n",
    "dx_dtheta = D[x3, theta];\n",
    "dy_dtheta = D[y3, theta];\n",
    "dz_dtheta = D[z3, theta];\n",
    "\n",
    "(* 计算叉积 *)\n",
    "normalVector = Cross[{dx_dphi2, dy_dphi2, dz_dphi2}, {dx_dtheta, dy_dtheta, dz_dtheta}];\n",
    "nx = normalVector[[1]];\n",
    "ny = normalVector[[2]];\n",
    "nz = normalVector[[3]];\n",
    "\n",
    "(* 定义法线方程的条件 *)\n",
    "condition = x3 nx - z3 nz == 0;\n",
    "\n",
    "(* 求解phi2和theta的关系 *)\n",
    "solution1 = Reduce[condition, theta];"
   ]
  },
  {
   "cell_type": "code",
   "execution_count": null,
   "metadata": {
    "vscode": {
     "languageId": "plaintext"
    }
   },
   "outputs": [],
   "source": [
    "solution1"
   ]
  },
  {
   "cell_type": "code",
   "execution_count": null,
   "metadata": {
    "vscode": {
     "languageId": "plaintext"
    }
   },
   "outputs": [],
   "source": []
  }
 ],
 "metadata": {
  "kernelspec": {
   "display_name": "Wolfram Language 14.1",
   "language": "Wolfram Language",
   "name": "wolframlanguage14.1"
  },
  "language_info": {
   "codemirror_mode": "mathematica",
   "file_extension": ".m",
   "mimetype": "application/vnd.wolfram.m",
   "name": "Wolfram Language",
   "pygments_lexer": "mathematica",
   "version": "12.0"
  }
 },
 "nbformat": 4,
 "nbformat_minor": 2
}
